{
 "cells": [
  {
   "cell_type": "markdown",
   "metadata": {},
   "source": [
    "<center><img src=\"https://i.gyazo.com/256afeb765705e7c76ffcd98e070d08c.png\" style=\"height:100px;\"></center>\n",
    "\n",
    "---\n",
    "&nbsp;  \n",
    "&nbsp;   \n",
    "\n",
    "<h1 align=\"center\"> A first look at Jupyter notebooks</h1>  \n",
    "\n",
    "&nbsp;   \n",
    "&nbsp; \n",
    "\n",
    "  \n",
    "\n",
    "---  "
   ]
  },
  {
   "cell_type": "markdown",
   "metadata": {},
   "source": [
    "## What are **Jupyter notebooks**?"
   ]
  },
  {
   "cell_type": "markdown",
   "metadata": {},
   "source": [
    "<div class=\"alert alert-block alert-warning\">  \n",
    "\n",
    "- Jupyter notebooks are composed of runnable `code cells` and formattable text cells, called `markdown cells`.<br/><br/>\n",
    "- Each Jupyter notebook is created to run with a particular programming language - we will using both `Python` and `R` Jupyter notebooks.<br/><br/>\n",
    "- Jupyter notebooks are created and run inside a `Web Browser` like Chrome.<br/><br/>"
   ]
  },
  {
   "cell_type": "markdown",
   "metadata": {},
   "source": [
    "---\n",
    "&nbsp;  \n",
    "&nbsp;  \n",
    "\n",
    "\n",
    "## Inserting and deleting cells "
   ]
  },
  {
   "cell_type": "markdown",
   "metadata": {},
   "source": [
    "<div class=\"alert alert-block alert-warning\">  \n",
    "\n",
    "- To insert a new cell either press the `+` button on the tool bar.<br/><br/>   \n",
    "- To delete a cell press the cut (scissors) button on the tool bar.  "
   ]
  },
  {
   "cell_type": "markdown",
   "metadata": {},
   "source": [
    "<div class=\"alert alert-block alert-success\">\n",
    "    \n",
    "<h4> Exercise: Insert a new code cell and then delete it\n",
    "    "
   ]
  },
  {
   "cell_type": "markdown",
   "metadata": {},
   "source": [
    "---\n",
    "&nbsp;  \n",
    "\n",
    "\n",
    "## Selecting the cell type"
   ]
  },
  {
   "cell_type": "markdown",
   "metadata": {},
   "source": [
    "<div class=\"alert alert-block alert-warning\">  \n",
    "\n",
    "- When you insert a new cell it defaults to a **code** cell.<br/><br/> \n",
    "- To change a cell to a **markdown** cell press `ESC M`.<br/><br/>  \n",
    "- To change a cell back to a code cell press `ESC Y`."
   ]
  },
  {
   "cell_type": "markdown",
   "metadata": {},
   "source": [
    "---\n",
    "&nbsp;  \n",
    "\n",
    "## Code cells "
   ]
  },
  {
   "cell_type": "markdown",
   "metadata": {},
   "source": [
    "<div class=\"alert alert-block alert-warning\">  \n",
    "\n",
    "Code cells contain code written in the programming language selected when you first create a new notebook.  \n",
    "    \n",
    "This notebook was created as a **`Python 3`** notebook.  \n",
    "     \n",
    "The cell following is a code cell.   \n",
    "\n",
    "To run this code cell click in the cell then press either:\n",
    "\n",
    "- **`SHIFT-ENTER`** runs the cells then moves to the next cell - or, if there is no next cell, it inserts a new cell.\n",
    "\n",
    "- **`CTRL-ENTER`** runs the cell but leaves you in the same cell.  \n",
    " "
   ]
  },
  {
   "cell_type": "code",
   "execution_count": 6,
   "metadata": {},
   "outputs": [
    {
     "data": {
      "text/plain": [
       "10000"
      ]
     },
     "execution_count": 6,
     "metadata": {},
     "output_type": "execute_result"
    }
   ],
   "source": [
    "def square(n):\n",
    "    return n*n\n",
    "\n",
    "square(100)"
   ]
  },
  {
   "cell_type": "markdown",
   "metadata": {},
   "source": [
    "<div class=\"alert alert-block alert-success\">\n",
    "\n",
    "<h4> Exercise:</h4>\n",
    "    \n",
    "1. insert a new code cell    \n",
    "<br>    \n",
    "    \n",
    "2. copy into this cell the code in the above cell    \n",
    "  <br>   \n",
    "    \n",
    "3. change this function so that it returns the cube of a number    \n",
    "    <br> \n",
    "    \n",
    "4. run the cell to confirm your new function works correctly    \n",
    "    "
   ]
  },
  {
   "cell_type": "code",
   "execution_count": 7,
   "metadata": {},
   "outputs": [
    {
     "data": {
      "text/plain": [
       "27"
      ]
     },
     "execution_count": 7,
     "metadata": {},
     "output_type": "execute_result"
    }
   ],
   "source": [
    "def cube(n):\n",
    "    return n*n*n\n",
    "\n",
    "cube(3)"
   ]
  },
  {
   "cell_type": "code",
   "execution_count": 8,
   "metadata": {},
   "outputs": [
    {
     "data": {
      "text/plain": [
       "16"
      ]
     },
     "execution_count": 8,
     "metadata": {},
     "output_type": "execute_result"
    }
   ],
   "source": [
    "square(4)"
   ]
  },
  {
   "cell_type": "code",
   "execution_count": 9,
   "metadata": {},
   "outputs": [
    {
     "data": {
      "text/plain": [
       "64"
      ]
     },
     "execution_count": 9,
     "metadata": {},
     "output_type": "execute_result"
    }
   ],
   "source": [
    "cube(4)"
   ]
  },
  {
   "cell_type": "markdown",
   "metadata": {},
   "source": [
    "---\n",
    "&nbsp;  \n",
    "&nbsp;  \n",
    "\n",
    "## Markdown cells"
   ]
  },
  {
   "cell_type": "markdown",
   "metadata": {},
   "source": [
    "<div class=\"alert alert-block alert-warning\">  \n",
    "\n",
    "- Cells containing formatted text are called **markdown cells**.<br/><br/> \n",
    "- You can change a cell to a `markdown` cell by either pressing **`ESC M`** or selecting `markdown` from the dropdown on the toolbar at the top.  \n",
    "  \n",
    "    "
   ]
  },
  {
   "cell_type": "markdown",
   "metadata": {},
   "source": [
    "---\n",
    "&nbsp;  \n",
    "&nbsp;  \n",
    "\n",
    "## Editing and 'Running' Markdown Cells"
   ]
  },
  {
   "cell_type": "markdown",
   "metadata": {},
   "source": [
    "<div class=\"alert alert-block alert-warning\">  \n",
    "\n",
    "- To **edit** text in a markdown cell select the cell and press **`ENTER`**.<br/><br/> \n",
    "- To **format** the text in a markdown cell you simply 'run' the cell e.g. press **`SHIFT-ENTER`**  \n",
    "\n"
   ]
  },
  {
   "cell_type": "markdown",
   "metadata": {},
   "source": [
    "<div class=\"alert alert-block alert-success\">\n",
    "\n",
    "    \n",
    "<h4>Exercise</h4>\n",
    "Insert a new markdown cell, then copy and paste the following text into the cell and run it\n",
    "<br><br>\n",
    "\n",
    "<pre>\n",
    "### Example markdown cell\n",
    "- To edit the cell press **ENTER** after selecting the cell  \n",
    "- To format the cell press **SHIFT-ENTER**  \n",
    "</pre>"
   ]
  },
  {
   "cell_type": "markdown",
   "metadata": {},
   "source": [
    "### Example markdown cell\n",
    "- To edit the cell press **ENTER** after selecting the cell  \n",
    "- To format the cell press **SHIFT-ENTER** "
   ]
  },
  {
   "cell_type": "markdown",
   "metadata": {},
   "source": [
    "---\n",
    "&nbsp;  \n",
    "&nbsp; \n",
    "\n",
    "## Saving and Closing Jupyter Notebooks"
   ]
  },
  {
   "cell_type": "markdown",
   "metadata": {},
   "source": [
    "<div class=\"alert alert-block alert-warning\">  \n",
    "\n",
    "- Periodically **save** notebooks using the 'save' button in the toolbar or by selecting the menu option: `File > Save Notebook`   \n",
    "&nbsp;\n",
    "- <font color='red'>**Note, you cannot save notebooks you open in the **`shared`** folder.**</font> In this case, first **copy** the notebook to your home folder where you can save changes (see below).   \n",
    "&nbsp;\n",
    "- When you have finished working on a notebook <font color='red'>**do not just close the web browser tab**</font>. Doing so will still leave this notebook running on the server. This becomes a critical issue when many of you are working on the server as memory is gradually used up until Jupyter stops working entirely!.  \n",
    "&nbsp;\n",
    "- <font color='red'>**Always close notebooks by selecting `File > Close and Shutdown Notebook` from the menu bar.**"
   ]
  },
  {
   "cell_type": "markdown",
   "metadata": {},
   "source": [
    "---\n",
    "&nbsp;  \n",
    "&nbsp; \n",
    "\n",
    "## Navigating to your Home folder"
   ]
  },
  {
   "cell_type": "markdown",
   "metadata": {},
   "source": [
    "<div class=\"alert alert-block alert-warning\">  \n",
    "\n",
    "You create, upload and save files in your **home** folder.\n",
    "    \n",
    "To navigate to your home folder click on the folder icon that appears at the start of the your current folder path:    \n",
    "    \n",
    "<center><img src=\"https://i.gyazo.com/d19e9768be5b4f52a6bd23bf2c340ccc.png\" alt=\"Image from Gyazo\" width=\"542\"/></center>    \n",
    "    \n",
    "&nbsp;    \n",
    "\n",
    "To return to the **scenarioweek** folder from your **home** folder:       \n",
    "    - click the `shared` folder    \n",
    "    - then click the `compthink` folder    \n",
    "    - finally click the `scenarioweek` folder    \n",
    "    \n",
    "</div>\n",
    "    "
   ]
  },
  {
   "cell_type": "markdown",
   "metadata": {},
   "source": [
    "---\n",
    "&nbsp;  \n",
    "### Downloading and Uploading Notebooks"
   ]
  },
  {
   "cell_type": "markdown",
   "metadata": {},
   "source": [
    "<div class=\"alert alert-block alert-warning\">  \n",
    "\n",
    "<font color='red'>To 'save' a notebook in the **`shared`** folder to your **`home`** folder, first **download** the notebook to your laptop, then **upload** it back to your **`home`** folder on the server. </font>  \n",
    "&nbsp;\n",
    "- To **download** a notebook to your laptop's **Downloads** folder select **`File > Download`** from the menu bar.  \n",
    "&nbsp;\n",
    "- To **upload** a notebook to our Jupyter notebook server, go to your **`home`** directory on the server, then click the **`Upload`** button: \n",
    "    \n",
    "<center><img src=\"https://i.gyazo.com/a5b67873f1c04f37052952591b6b6f58.png\" alt=\"Image from Gyazo\" width=\"300\"/></center>\n",
    "  \n"
   ]
  },
  {
   "cell_type": "markdown",
   "metadata": {},
   "source": [
    "<div class=\"alert alert-block alert-success\">\n",
    "\n",
    "<h4>Exercise: Save and edit your own copy of a shared notebook </h4>\n",
    "\n",
    "1) Download this notebook to your laptop  \n",
    "&nbsp;  \n",
    "2) Then upload it to your `home` folder  \n",
    "&nbsp;  \n",
    "3) Once uploaded, open the notebook from your `home` folder, make some changes, save it, and close & shutdown  \n",
    "&nbsp;  \n",
    "4) Finally, open it again to confirm your changes were saved  \n",
    " "
   ]
  },
  {
   "cell_type": "markdown",
   "metadata": {},
   "source": [
    "---\n",
    "&nbsp;  \n",
    "### Creating Jupyter Notebooks"
   ]
  },
  {
   "cell_type": "markdown",
   "metadata": {},
   "source": [
    "<div class=\"alert alert-block alert-warning\">  \n",
    "\n",
    "- To create a new notebook you must first be in your `home` folder.<br></br>\n",
    "- Select `File > New > Notebook` from menu bar.<br></br>\n",
    "- In the pop-up window that appears select `azureml_py38`\n",
    "\n",
    "<center><img src=\"https://i.gyazo.com/7946bf1f2031a87b2ce6f1ff5a9275e3.png\" alt=\"Image from Gyazo\" width=\"300\"/></center>\n",
    "\n",
    "- The new file will have a default filename of *Untitled.ipynb* or similar. <br></br>\n",
    "- To rename your new notebook select `File > Rename Notebook ...` from menu bar. The `.ipynb` filename suffix must be kept for all jupyter notebooks.<br></br>"
   ]
  },
  {
   "cell_type": "markdown",
   "metadata": {},
   "source": [
    "<div class=\"alert alert-block alert-success\">\n",
    "\n",
    "<h4>Exercise: Create and rename a New Notebook </h4>\n",
    "\n",
    "1) Move to your `home` folder.  \n",
    "&nbsp;  \n",
    "2) Create a new notebook.  \n",
    "&nbsp;  \n",
    "3) Enter the following code in the first cell and then run it (SHIFT-ENTER)    \n",
    "    ```python\n",
    "    def hi(x):\n",
    "        for _ in range(x):\n",
    "            print(\"hi\")\n",
    "    \n",
    "    hi(3)\n",
    "    ```\n",
    "&nbsp;  \n",
    "4) Save your file:  `File > Save Notebook`   \n",
    "&nbsp;    \n",
    "5) Rename your file to: `Hi.ipynb`    \n",
    "&nbsp;  \n",
    "6) Close your notebook: `File > Close and Shutdown Notebook`    \n",
    "&nbsp;  \n",
    "7) Find and open your new notebook again.\n",
    " "
   ]
  }
 ],
 "metadata": {
  "kernelspec": {
   "display_name": "azureml_py38",
   "language": "python",
   "name": "conda-env-azureml_py38-py"
  },
  "language_info": {
   "codemirror_mode": {
    "name": "ipython",
    "version": 3
   },
   "file_extension": ".py",
   "mimetype": "text/x-python",
   "name": "python",
   "nbconvert_exporter": "python",
   "pygments_lexer": "ipython3",
   "version": "3.8.13"
  }
 },
 "nbformat": 4,
 "nbformat_minor": 4
}
